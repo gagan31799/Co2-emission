{
  "nbformat": 4,
  "nbformat_minor": 0,
  "metadata": {
    "colab": {
      "name": "Co2 emission",
      "provenance": [],
      "collapsed_sections": []
    },
    "kernelspec": {
      "name": "python3",
      "display_name": "Python 3"
    }
  },
  "cells": [
    {
      "cell_type": "markdown",
      "metadata": {
        "id": "fR_SN7K6475D"
      },
      "source": [
        "### Problem Statement\n",
        "\n",
        "CO2 emissions are majorly responsible for global climate change. Excess CO2 emissions causes severe air pollution and many people suffer from respiratory disorders. Automobiles are a major source of CO2 emissions. Thus, it is important to measure the CO2 emission to maintain a healthy environment for all living beings on earth.\n",
        "\n",
        "Implement multiple linear regression to create a predictive model capable of estimating CO2 emission of cars based on different data of the car models. Also, evaluate the accuracy of the prediction model.\n",
        "\n",
        "\n",
        "\n",
        "\n"
      ]
    },
    {
      "cell_type": "markdown",
      "metadata": {
        "id": "lN1iCMJ4Oy1N"
      },
      "source": [
        "---"
      ]
    },
    {
      "cell_type": "markdown",
      "metadata": {
        "id": "L3zN-iv-wpjm"
      },
      "source": [
        "### List of Activities\n",
        "\n",
        "**Activity 1:** Analysing the Dataset\n",
        "\n",
        " \n",
        "**Activity 2:** Train-Test Split\n",
        "\n",
        "**Activity 3:**  Model Training\n",
        "\n",
        "**Activity 4:** Model Prediction \n",
        "\n",
        "**Activity 5:** Model Evaluation\n",
        "\n",
        "\n",
        "\n",
        "\n",
        "\n"
      ]
    },
    {
      "cell_type": "markdown",
      "metadata": {
        "id": "jLudEnlPO0FF"
      },
      "source": [
        "---"
      ]
    },
    {
      "cell_type": "markdown",
      "metadata": {
        "id": "lZt4yKiJwrUs"
      },
      "source": [
        "\n",
        "#### Activity 1:  Analysing the Dataset\n",
        "\n",
        "- Create a Pandas DataFrame for **FuelConsumptionCO2** dataset using the below link. This dataset consists of data of 2014 cars such as engine size, number of cylinders, fuel consumption and CO2 emission.\n",
        "\n",
        "\n",
        "\n",
        "  **Dataset Link:** https://student-datasets-bucket.s3.ap-south-1.amazonaws.com/whitehat-ds-datasets/FuelConsumptionCo2.csv\n",
        "\n",
        "- Print the first five rows of the dataset. Check for null values and treat them accordingly.\n",
        "\n",
        "\n",
        "\n"
      ]
    },
    {
      "cell_type": "code",
      "metadata": {
        "id": "6U6NaAy4WQgs",
        "colab": {
          "base_uri": "https://localhost:8080/",
          "height": 322
        },
        "outputId": "afcaeb22-e4b3-4163-b7d1-f3a5d5c3ee7e"
      },
      "source": [
        "# Import modules\n",
        "import numpy as np\n",
        "import pandas as pd\n",
        "import matplotlib.pyplot as plt\n",
        "import seaborn as sns\n",
        "\n",
        "# Load the dataset\n",
        "\n",
        "df = pd.read_csv('https://student-datasets-bucket.s3.ap-south-1.amazonaws.com/whitehat-ds-datasets/FuelConsumptionCo2.csv')\n",
        "\n",
        "# Print first five rows using head() function\n",
        "df.head()\n"
      ],
      "execution_count": null,
      "outputs": [
        {
          "output_type": "execute_result",
          "data": {
            "text/html": [
              "\n",
              "  <div id=\"df-e1abda87-8288-48b8-bab8-bcb0037aa945\">\n",
              "    <div class=\"colab-df-container\">\n",
              "      <div>\n",
              "<style scoped>\n",
              "    .dataframe tbody tr th:only-of-type {\n",
              "        vertical-align: middle;\n",
              "    }\n",
              "\n",
              "    .dataframe tbody tr th {\n",
              "        vertical-align: top;\n",
              "    }\n",
              "\n",
              "    .dataframe thead th {\n",
              "        text-align: right;\n",
              "    }\n",
              "</style>\n",
              "<table border=\"1\" class=\"dataframe\">\n",
              "  <thead>\n",
              "    <tr style=\"text-align: right;\">\n",
              "      <th></th>\n",
              "      <th>MODELYEAR</th>\n",
              "      <th>MAKE</th>\n",
              "      <th>MODEL</th>\n",
              "      <th>VEHICLECLASS</th>\n",
              "      <th>ENGINESIZE</th>\n",
              "      <th>CYLINDERS</th>\n",
              "      <th>FUELCONSUMPTION_CITY</th>\n",
              "      <th>FUELCONSUMPTION_HWY</th>\n",
              "      <th>FUELCONSUMPTION_COMB</th>\n",
              "      <th>FUELCONSUMPTION_COMB_MPG</th>\n",
              "      <th>CO2EMISSIONS</th>\n",
              "    </tr>\n",
              "  </thead>\n",
              "  <tbody>\n",
              "    <tr>\n",
              "      <th>0</th>\n",
              "      <td>2014</td>\n",
              "      <td>ACURA</td>\n",
              "      <td>ILX</td>\n",
              "      <td>COMPACT</td>\n",
              "      <td>2.0</td>\n",
              "      <td>4</td>\n",
              "      <td>9.9</td>\n",
              "      <td>6.7</td>\n",
              "      <td>8.5</td>\n",
              "      <td>33</td>\n",
              "      <td>196</td>\n",
              "    </tr>\n",
              "    <tr>\n",
              "      <th>1</th>\n",
              "      <td>2014</td>\n",
              "      <td>ACURA</td>\n",
              "      <td>ILX</td>\n",
              "      <td>COMPACT</td>\n",
              "      <td>2.4</td>\n",
              "      <td>4</td>\n",
              "      <td>11.2</td>\n",
              "      <td>7.7</td>\n",
              "      <td>9.6</td>\n",
              "      <td>29</td>\n",
              "      <td>221</td>\n",
              "    </tr>\n",
              "    <tr>\n",
              "      <th>2</th>\n",
              "      <td>2014</td>\n",
              "      <td>ACURA</td>\n",
              "      <td>ILX HYBRID</td>\n",
              "      <td>COMPACT</td>\n",
              "      <td>1.5</td>\n",
              "      <td>4</td>\n",
              "      <td>6.0</td>\n",
              "      <td>5.8</td>\n",
              "      <td>5.9</td>\n",
              "      <td>48</td>\n",
              "      <td>136</td>\n",
              "    </tr>\n",
              "    <tr>\n",
              "      <th>3</th>\n",
              "      <td>2014</td>\n",
              "      <td>ACURA</td>\n",
              "      <td>MDX 4WD</td>\n",
              "      <td>SUV - SMALL</td>\n",
              "      <td>3.5</td>\n",
              "      <td>6</td>\n",
              "      <td>12.7</td>\n",
              "      <td>9.1</td>\n",
              "      <td>11.1</td>\n",
              "      <td>25</td>\n",
              "      <td>255</td>\n",
              "    </tr>\n",
              "    <tr>\n",
              "      <th>4</th>\n",
              "      <td>2014</td>\n",
              "      <td>ACURA</td>\n",
              "      <td>RDX AWD</td>\n",
              "      <td>SUV - SMALL</td>\n",
              "      <td>3.5</td>\n",
              "      <td>6</td>\n",
              "      <td>12.1</td>\n",
              "      <td>8.7</td>\n",
              "      <td>10.6</td>\n",
              "      <td>27</td>\n",
              "      <td>244</td>\n",
              "    </tr>\n",
              "  </tbody>\n",
              "</table>\n",
              "</div>\n",
              "      <button class=\"colab-df-convert\" onclick=\"convertToInteractive('df-e1abda87-8288-48b8-bab8-bcb0037aa945')\"\n",
              "              title=\"Convert this dataframe to an interactive table.\"\n",
              "              style=\"display:none;\">\n",
              "        \n",
              "  <svg xmlns=\"http://www.w3.org/2000/svg\" height=\"24px\"viewBox=\"0 0 24 24\"\n",
              "       width=\"24px\">\n",
              "    <path d=\"M0 0h24v24H0V0z\" fill=\"none\"/>\n",
              "    <path d=\"M18.56 5.44l.94 2.06.94-2.06 2.06-.94-2.06-.94-.94-2.06-.94 2.06-2.06.94zm-11 1L8.5 8.5l.94-2.06 2.06-.94-2.06-.94L8.5 2.5l-.94 2.06-2.06.94zm10 10l.94 2.06.94-2.06 2.06-.94-2.06-.94-.94-2.06-.94 2.06-2.06.94z\"/><path d=\"M17.41 7.96l-1.37-1.37c-.4-.4-.92-.59-1.43-.59-.52 0-1.04.2-1.43.59L10.3 9.45l-7.72 7.72c-.78.78-.78 2.05 0 2.83L4 21.41c.39.39.9.59 1.41.59.51 0 1.02-.2 1.41-.59l7.78-7.78 2.81-2.81c.8-.78.8-2.07 0-2.86zM5.41 20L4 18.59l7.72-7.72 1.47 1.35L5.41 20z\"/>\n",
              "  </svg>\n",
              "      </button>\n",
              "      \n",
              "  <style>\n",
              "    .colab-df-container {\n",
              "      display:flex;\n",
              "      flex-wrap:wrap;\n",
              "      gap: 12px;\n",
              "    }\n",
              "\n",
              "    .colab-df-convert {\n",
              "      background-color: #E8F0FE;\n",
              "      border: none;\n",
              "      border-radius: 50%;\n",
              "      cursor: pointer;\n",
              "      display: none;\n",
              "      fill: #1967D2;\n",
              "      height: 32px;\n",
              "      padding: 0 0 0 0;\n",
              "      width: 32px;\n",
              "    }\n",
              "\n",
              "    .colab-df-convert:hover {\n",
              "      background-color: #E2EBFA;\n",
              "      box-shadow: 0px 1px 2px rgba(60, 64, 67, 0.3), 0px 1px 3px 1px rgba(60, 64, 67, 0.15);\n",
              "      fill: #174EA6;\n",
              "    }\n",
              "\n",
              "    [theme=dark] .colab-df-convert {\n",
              "      background-color: #3B4455;\n",
              "      fill: #D2E3FC;\n",
              "    }\n",
              "\n",
              "    [theme=dark] .colab-df-convert:hover {\n",
              "      background-color: #434B5C;\n",
              "      box-shadow: 0px 1px 3px 1px rgba(0, 0, 0, 0.15);\n",
              "      filter: drop-shadow(0px 1px 2px rgba(0, 0, 0, 0.3));\n",
              "      fill: #FFFFFF;\n",
              "    }\n",
              "  </style>\n",
              "\n",
              "      <script>\n",
              "        const buttonEl =\n",
              "          document.querySelector('#df-e1abda87-8288-48b8-bab8-bcb0037aa945 button.colab-df-convert');\n",
              "        buttonEl.style.display =\n",
              "          google.colab.kernel.accessAllowed ? 'block' : 'none';\n",
              "\n",
              "        async function convertToInteractive(key) {\n",
              "          const element = document.querySelector('#df-e1abda87-8288-48b8-bab8-bcb0037aa945');\n",
              "          const dataTable =\n",
              "            await google.colab.kernel.invokeFunction('convertToInteractive',\n",
              "                                                     [key], {});\n",
              "          if (!dataTable) return;\n",
              "\n",
              "          const docLinkHtml = 'Like what you see? Visit the ' +\n",
              "            '<a target=\"_blank\" href=https://colab.research.google.com/notebooks/data_table.ipynb>data table notebook</a>'\n",
              "            + ' to learn more about interactive tables.';\n",
              "          element.innerHTML = '';\n",
              "          dataTable['output_type'] = 'display_data';\n",
              "          await google.colab.output.renderOutput(dataTable, element);\n",
              "          const docLink = document.createElement('div');\n",
              "          docLink.innerHTML = docLinkHtml;\n",
              "          element.appendChild(docLink);\n",
              "        }\n",
              "      </script>\n",
              "    </div>\n",
              "  </div>\n",
              "  "
            ],
            "text/plain": [
              "   MODELYEAR   MAKE  ... FUELCONSUMPTION_COMB_MPG CO2EMISSIONS\n",
              "0       2014  ACURA  ...                       33          196\n",
              "1       2014  ACURA  ...                       29          221\n",
              "2       2014  ACURA  ...                       48          136\n",
              "3       2014  ACURA  ...                       25          255\n",
              "4       2014  ACURA  ...                       27          244\n",
              "\n",
              "[5 rows x 11 columns]"
            ]
          },
          "metadata": {},
          "execution_count": 1
        }
      ]
    },
    {
      "cell_type": "code",
      "metadata": {
        "id": "jg7hAMJ4jKC5",
        "colab": {
          "base_uri": "https://localhost:8080/"
        },
        "outputId": "f76a8b45-c634-445b-e54c-ee61a8580b80"
      },
      "source": [
        "# Check if there are any null values. If any column has null values, treat them accordingly\n",
        "df.isna().sum()"
      ],
      "execution_count": null,
      "outputs": [
        {
          "output_type": "execute_result",
          "data": {
            "text/plain": [
              "MODELYEAR                   0\n",
              "MAKE                        0\n",
              "MODEL                       0\n",
              "VEHICLECLASS                0\n",
              "ENGINESIZE                  0\n",
              "CYLINDERS                   0\n",
              "FUELCONSUMPTION_CITY        0\n",
              "FUELCONSUMPTION_HWY         0\n",
              "FUELCONSUMPTION_COMB        0\n",
              "FUELCONSUMPTION_COMB_MPG    0\n",
              "CO2EMISSIONS                0\n",
              "dtype: int64"
            ]
          },
          "metadata": {},
          "execution_count": 2
        }
      ]
    },
    {
      "cell_type": "code",
      "metadata": {
        "id": "v336EVVXm6iQ",
        "colab": {
          "base_uri": "https://localhost:8080/"
        },
        "outputId": "81bb0116-8c51-4ca5-f2d9-20bc42fb2e12"
      },
      "source": [
        "# Get the list of columns of the dataset.\n",
        "df.columns\n"
      ],
      "execution_count": null,
      "outputs": [
        {
          "output_type": "execute_result",
          "data": {
            "text/plain": [
              "Index(['MODELYEAR', 'MAKE', 'MODEL', 'VEHICLECLASS', 'ENGINESIZE', 'CYLINDERS',\n",
              "       'FUELCONSUMPTION_CITY', 'FUELCONSUMPTION_HWY', 'FUELCONSUMPTION_COMB',\n",
              "       'FUELCONSUMPTION_COMB_MPG', 'CO2EMISSIONS'],\n",
              "      dtype='object')"
            ]
          },
          "metadata": {},
          "execution_count": 3
        }
      ]
    },
    {
      "cell_type": "markdown",
      "metadata": {
        "id": "T2b18ifmveiZ"
      },
      "source": [
        "---"
      ]
    },
    {
      "cell_type": "markdown",
      "metadata": {
        "id": "uDTmlU-Mz0fI"
      },
      "source": [
        "#### Activity 2: Train-Test Split\n",
        "\n",
        "We need to predict the value of `CO2EMISSIONS` variable, given other variables. Thus, `CO2EMISSIONS` is the target variable and other columns except `CO2EMISSIONS` are the feature variables.\n",
        "\n",
        "Split the dataset into training set and test set such that the training set contains 70% of the instances and the remaining instances will become the test set.\n",
        "\n",
        "**Note:** Do not consider the columns such as `MODELYEAR`, `MAKE`, `MODEL`, `VEHICLECLASS` as feature variables since they are not much significant in this analysis."
      ]
    },
    {
      "cell_type": "code",
      "metadata": {
        "id": "Ku_loAWZ0LXr"
      },
      "source": [
        "# Split the DataFrame into the training and test sets.\n",
        "from sklearn.model_selection import train_test_split\n",
        "\n",
        "X=df.iloc[:,4:10]\n",
        "y=df['CO2EMISSIONS']\n",
        "\n",
        "X_train, X_test, y_train, y_test = train_test_split(X, y, test_size = 0.30, random_state = 42) # Test set will have 33% of the values.\n",
        "\n"
      ],
      "execution_count": null,
      "outputs": []
    },
    {
      "cell_type": "markdown",
      "metadata": {
        "id": "hCPg7ClP0Om1"
      },
      "source": [
        "---"
      ]
    },
    {
      "cell_type": "markdown",
      "metadata": {
        "id": "ud8dLfCGjh0E"
      },
      "source": [
        "#### Activity 3: Model Training\n",
        "\n",
        "Implement multiple linear regression using `sklearn` module by creating an object of the `LinearRegression` class and calling the `fit()` function.\n",
        "\n",
        "**Note:** Reshaping the target variable array into a 2D array is not mandatory in multiple linear regression. You can skip that."
      ]
    },
    {
      "cell_type": "code",
      "metadata": {
        "id": "Xost35Q1XreI",
        "colab": {
          "base_uri": "https://localhost:8080/"
        },
        "outputId": "e5b198c6-f5dc-4d7e-8e52-e527c820ddb8"
      },
      "source": [
        "# Build linear regression model\n",
        "\n",
        "from sklearn.linear_model import LinearRegression\n",
        "\n",
        "# Print the value of the intercept \n",
        "\n",
        "sklearn_lin_reg = LinearRegression()\n",
        "sklearn_lin_reg.fit(X_train, y_train)\n",
        "\n",
        "# Print the value of the intercept i.e. beta-sub-0.\n",
        "print(\"\\nConstant\".ljust(15, \" \"), f\"{sklearn_lin_reg.intercept_:.6f}\") # Soon you will get to know why rounding-off to 6 decimal places.\n",
        "\n",
        "# Print the names of the features along with the values of their corresponding coefficients.\n",
        "for item in list(zip(X.columns.values, sklearn_lin_reg.coef_)):\n",
        "  print(f\"{item[0]}\".ljust(15, \" \"), f\"{item[1]:.6f}\") \n"
      ],
      "execution_count": null,
      "outputs": [
        {
          "output_type": "stream",
          "name": "stdout",
          "text": [
            "\n",
            "Constant       256.996113\n",
            "ENGINESIZE      9.384089\n",
            "CYLINDERS       6.724061\n",
            "FUELCONSUMPTION_CITY -14.730791\n",
            "FUELCONSUMPTION_HWY -6.960195\n",
            "FUELCONSUMPTION_COMB 25.410125\n",
            "FUELCONSUMPTION_COMB_MPG -3.909737\n"
          ]
        }
      ]
    },
    {
      "cell_type": "markdown",
      "metadata": {
        "id": "cAPgWR45mrCo"
      },
      "source": [
        "---"
      ]
    },
    {
      "cell_type": "markdown",
      "metadata": {
        "id": "CvcLZdremtHY"
      },
      "source": [
        "#### Activity 4: Model Prediction using Test Set\n",
        "\n",
        "Predict the values for the test set by calling the `predict()` function on the LinearRegression object. \n",
        "\n"
      ]
    },
    {
      "cell_type": "code",
      "metadata": {
        "id": "nktWlDysyJyR",
        "colab": {
          "base_uri": "https://localhost:8080/"
        },
        "outputId": "a61be5c3-16e6-4f4f-d47a-53625a243782"
      },
      "source": [
        "# Predict the target variable values for test set\n",
        "\n",
        "y_test_pred = sklearn_lin_reg.predict(X_test)\n",
        "y_test_pred\n"
      ],
      "execution_count": null,
      "outputs": [
        {
          "output_type": "execute_result",
          "data": {
            "text/plain": [
              "array([308.96275897, 241.38417423, 279.01768813, 237.30710931,\n",
              "       206.05910132, 251.73533465, 308.10320687, 295.66301513,\n",
              "       312.97476717, 309.91496787, 290.45660534, 375.28397137,\n",
              "       260.7734979 , 257.12339841, 269.68146052, 264.0749104 ,\n",
              "       218.90278987, 251.85412295, 184.66357758, 311.57480644,\n",
              "       324.51338028, 208.8026167 , 264.77885163, 249.32117218,\n",
              "       270.48310147, 197.69251835, 208.14721471, 177.60658623,\n",
              "       311.52559105, 254.76112583, 373.30688411, 200.29577308,\n",
              "       209.57967634, 328.58106349, 237.03081182, 288.0214543 ,\n",
              "       278.99256511, 380.85545075, 198.79227643, 207.61273929,\n",
              "       152.06418299, 177.20144043, 180.14026806, 210.0551261 ,\n",
              "       287.15738387, 206.27180422, 249.0078027 , 270.92147924,\n",
              "       182.90554817, 355.19741541, 315.79650609, 289.20628697,\n",
              "       216.85388677, 277.94329519, 271.46120191, 320.03841298,\n",
              "       375.1858401 , 324.2117704 , 184.22539467, 288.8901009 ,\n",
              "       304.16363326, 277.39929596, 293.21688031, 258.0285753 ,\n",
              "       191.16213559, 252.42275625, 176.57907555, 302.1725962 ,\n",
              "       264.37511305, 269.84280974, 341.71746958, 196.17901658,\n",
              "       264.00844647, 212.23355368, 221.50745182, 296.6310577 ,\n",
              "       342.58635828, 349.02496472, 337.7481278 , 255.53604718,\n",
              "       193.31982188, 184.67096311, 240.10111284, 280.57253846,\n",
              "       191.16213559, 248.66912083, 218.52504027, 165.92644736,\n",
              "       329.78576471, 171.27603191, 226.12389256, 331.84578788,\n",
              "       212.07375422, 156.95940634, 172.42500538, 190.62532704,\n",
              "       220.68856232, 225.25738974, 279.95682805, 336.59050369,\n",
              "       334.81649085, 211.69028551, 278.35490061, 246.68284928,\n",
              "       291.63881078, 144.10255097, 237.03081182, 206.43101516,\n",
              "       220.76960246, 217.25903257, 183.15794264, 287.67320353,\n",
              "       271.57426165, 236.46572402, 325.32240676, 265.75714692,\n",
              "       276.76108976, 341.00420155, 285.39624549, 204.79872509,\n",
              "       262.12443809, 143.12969778, 228.9011816 , 126.20505962,\n",
              "       241.68437688, 204.78725785, 279.21300038, 155.80902565,\n",
              "       306.73297771, 202.18259591, 196.67380042, 212.80937766,\n",
              "       358.74501005, 179.85531778, 286.01773936, 258.28170084,\n",
              "       258.11962056, 311.52559105, 198.78348368, 292.36737843,\n",
              "       311.73401738, 264.00844647, 184.66357758, 258.0285753 ,\n",
              "       181.24143335, 264.0749104 , 308.7805706 ,  88.73813197,\n",
              "       327.72170625, 347.35292268, 223.80539875, 262.12443809,\n",
              "       261.27426005, 267.37486294, 272.40034182, 306.80892036,\n",
              "       312.97476717, 205.41365213, 178.09136495, 257.94753516,\n",
              "       325.61751243, 318.44387107, 245.35294492, 286.96187676,\n",
              "       221.37578906, 284.61918585, 233.18283282, 321.97615295,\n",
              "       228.16809011, 202.92190738, 228.16809011, 337.7481278 ,\n",
              "       366.22093227, 272.91708525, 385.85167981, 184.136969  ,\n",
              "       255.1729261 , 208.14721471, 306.87391667, 259.39744234,\n",
              "       197.9745993 , 144.32594322, 245.86054874, 379.14736779,\n",
              "       177.11704965, 306.49486491, 342.58635828, 156.46870421,\n",
              "       182.34119143, 131.46694956, 183.02506752, 185.68229551,\n",
              "       196.90472254, 184.66357758, 208.27008471, 188.17555469,\n",
              "       256.03102587, 191.88857261, 272.91708525, 213.57783939,\n",
              "       361.03717568,  80.9452347 , 319.29545848, 187.88919719,\n",
              "       330.64386449, 393.21450278, 214.23202903, 213.82668837,\n",
              "       320.03841298, 209.29618817, 221.37578906, 224.15992194,\n",
              "       256.24139563, 380.93027131, 181.24143335, 299.60116622,\n",
              "       240.2200905 , 258.94448837, 344.91753718, 316.43747614,\n",
              "       259.41993813, 219.22408109, 306.08966637, 279.90901988,\n",
              "       311.08050606, 217.78442878, 379.39207722, 327.21647301,\n",
              "       345.5297021 , 277.94329519, 343.25565817, 268.95288522,\n",
              "       270.63512174, 227.64007431, 286.96187676, 150.92998059,\n",
              "       227.30999034, 222.89021675, 182.78675987, 308.18424701,\n",
              "       274.88354099, 310.3014579 , 288.7447351 , 212.39563396,\n",
              "       229.38580834, 306.24173938, 221.70801131, 291.71338365,\n",
              "       275.54705958, 184.66357758, 198.78348368, 213.70891363,\n",
              "       344.91753718, 270.45778909, 187.64015336, 368.83803214,\n",
              "       258.67611046, 310.61900694, 258.0285753 , 377.23430667,\n",
              "       248.10189475, 180.83628755, 299.60116622, 277.39929596,\n",
              "       310.59578009, 281.78656864, 212.23355368, 262.97301405,\n",
              "       210.63760455, 320.03841298, 315.90139649, 312.35045886,\n",
              "       184.66357758, 270.92147924, 253.69984697, 284.03456913,\n",
              "       246.63760838, 175.35644747, 217.78442878, 214.55870195,\n",
              "       256.79856169, 170.67105767, 240.30429193, 165.92644736,\n",
              "       270.48310147, 336.97840095, 229.59054663, 311.76073699,\n",
              "       206.59309544, 274.91750402, 268.79012877, 183.0358037 ,\n",
              "       211.90944802, 370.96273323, 344.91753718, 230.62524799,\n",
              "       315.39995819, 341.71746958, 165.24043299, 215.59064119,\n",
              "       252.90297153, 191.40379389, 214.71748391, 288.04871561,\n",
              "       367.26068603, 237.30710931, 258.11962056, 215.2129988 ,\n",
              "       154.99562509, 210.96171021, 270.11118764, 315.55766439,\n",
              "       362.88216865, 198.78348368, 206.43101516, 182.26015129,\n",
              "       198.78348368, 367.49050044, 329.59983417, 178.67525062,\n",
              "       212.63821818])"
            ]
          },
          "metadata": {},
          "execution_count": 8
        }
      ]
    },
    {
      "cell_type": "markdown",
      "metadata": {
        "id": "hspzRER4CHcc"
      },
      "source": [
        "---"
      ]
    },
    {
      "cell_type": "markdown",
      "metadata": {
        "id": "ThJQ-K4d-jeH"
      },
      "source": [
        "#### Activity 5: Model Evaluation\n",
        "\n",
        "Calculate the $R^2$, MSE, RMSE and MAE values for the test set to evaluate the accuracy of your model. Also, perform residual analysis to check if the error terms are normally distributed for the test set."
      ]
    },
    {
      "cell_type": "code",
      "metadata": {
        "id": "tp89aLvIxxBx",
        "colab": {
          "base_uri": "https://localhost:8080/"
        },
        "outputId": "ac4863f6-f5c6-4a73-82e0-b52ad6625144"
      },
      "source": [
        "# Evaluate the model using the 'r2_score', 'mean_squared_error' & 'mean_absolute_error' functions of the 'sklearn' module for the test set.\n",
        "from sklearn.metrics import r2_score, mean_squared_error, mean_absolute_error\n",
        "\n",
        "      \n",
        "print(f\"\\n\\nTest Set\\n{'-' * 50}\")\n",
        "print(f\"R-squared: {r2_score(y_test, y_test_pred):.3f}\")\n",
        "print(f\"Mean Squared Error: {mean_squared_error(y_test, y_test_pred):.3f}\")\n",
        "print(f\"Root Mean Squared Error: {np.sqrt(mean_squared_error(y_test, y_test_pred)):.3f}\")\n",
        "print(f\"Mean Absolute Error: {mean_absolute_error(y_test, y_test_pred):.3f}\")"
      ],
      "execution_count": null,
      "outputs": [
        {
          "output_type": "stream",
          "name": "stdout",
          "text": [
            "\n",
            "\n",
            "Test Set\n",
            "--------------------------------------------------\n",
            "R-squared: 0.903\n",
            "Mean Squared Error: 390.210\n",
            "Root Mean Squared Error: 19.754\n",
            "Mean Absolute Error: 12.841\n"
          ]
        }
      ]
    },
    {
      "cell_type": "code",
      "metadata": {
        "id": "V93jc053-ud2",
        "colab": {
          "base_uri": "https://localhost:8080/",
          "height": 350
        },
        "outputId": "47950d1c-2375-4a4d-b038-21eefacac012"
      },
      "source": [
        "# Create a histogram for the errors obtained in the predicted values for the test set\n",
        "errors_test=y_test-y_test_pred\n",
        "\n",
        "plt.figure(figsize=[15,5])\n",
        "plt.title('histogram for the errors obtained in the predicted values for the test set')\n",
        "plt.hist(errors_test,bins='sturges',edgecolor='black')\n",
        "plt.xlabel('test Set errors')\n",
        "plt.axvline(x=errors_test.mean(),label=f'mean of errors={errors_test.mean():.3f}',color='red')\n",
        "plt.legend()\n",
        "plt.show()"
      ],
      "execution_count": null,
      "outputs": [
        {
          "output_type": "display_data",
          "data": {
            "image/png": "[encoded data removed]",
            "text/plain": [
              "<Figure size 1080x360 with 1 Axes>"
            ]
          },
          "metadata": {
            "needs_background": "light"
          }
        }
      ]
    },
    {
      "cell_type": "markdown",
      "metadata": {
        "id": "KzbidUOty3uv"
      },
      "source": [
        "**Q:** What is the mean of errors for the test test? Is it zero?\n",
        "\n",
        "**A:** No, the mean of errors is  - 0.707\n"
      ]
    }
  ]
}